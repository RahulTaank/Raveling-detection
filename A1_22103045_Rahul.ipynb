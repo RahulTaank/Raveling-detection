{
 "cells": [
  {
   "cell_type": "code",
   "execution_count": 4,
   "id": "a0653789",
   "metadata": {},
   "outputs": [
    {
     "name": "stdout",
     "output_type": "stream",
     "text": [
      "Collecting opencv-python\n",
      "  Downloading opencv_python-4.8.0.76-cp37-abi3-win_amd64.whl (38.1 MB)\n",
      "     ---------------------------------------- 38.1/38.1 MB 1.8 MB/s eta 0:00:00\n",
      "Requirement already satisfied: numpy>=1.17.0 in k:\\ada\\lib\\site-packages (from opencv-python) (1.24.4)\n",
      "Installing collected packages: opencv-python\n",
      "Successfully installed opencv-python-4.8.0.76\n",
      "Note: you may need to restart the kernel to use updated packages.\n"
     ]
    }
   ],
   "source": [
    "pip install opencv-python\n"
   ]
  },
  {
   "cell_type": "code",
   "execution_count": 22,
   "id": "b35f990f",
   "metadata": {},
   "outputs": [],
   "source": [
    "import os\n",
    "import pandas as pd\n",
    "import numpy as np\n",
    "import cv2\n",
    "from sklearn.linear_model import LogisticRegression\n",
    "from sklearn.metrics import accuracy_score\n",
    "from sklearn.model_selection import train_test_split\n",
    "from PIL import Image"
   ]
  },
  {
   "cell_type": "code",
   "execution_count": 52,
   "id": "d326b198",
   "metadata": {},
   "outputs": [],
   "source": [
    "#reading images from folder\n",
    "path1 = r'K:\\IITK\\SEMESTER 2\\MACHINE LEARNING\\ASSIGNMENT 1\\mod_ravelling_dataset\\train\\Non_raveling'"
   ]
  },
  {
   "cell_type": "code",
   "execution_count": 53,
   "id": "2a45cc51",
   "metadata": {},
   "outputs": [],
   "source": [
    "# omputing statistical properties for each channel\n",
    "# def stat_prop(bgr):\n",
    "def stat_prop(bgr):\n",
    "    mean = np.mean(bgr)\n",
    "    std = np.std(bgr)\n",
    "    \n",
    "    kurtosis = np.mean((bgr - mean)**4) / std**4\n",
    "\n",
    "    range1 = np.max(bgr) - np.min(bgr)\n",
    "\n",
    "    return mean, std, kurtosis, range1\n"
   ]
  },
  {
   "cell_type": "code",
   "execution_count": 54,
   "id": "6dfe52cd",
   "metadata": {},
   "outputs": [],
   "source": [
    "#creating  list of all the image\n",
    "image1 = []\n",
    "label1 = []\n",
    "b_stat1 = []\n",
    "g_stat1 = []\n",
    "r_stat1 = []"
   ]
  },
  {
   "cell_type": "code",
   "execution_count": 55,
   "id": "01438c23",
   "metadata": {},
   "outputs": [],
   "source": [
    "#reading images\n",
    "for img1 in os.listdir(path1):\n",
    "    img1 = cv2.imread(os.path.join(path1,img1))\n",
    "    img1 = cv2.cvtColor(img1, cv2.COLOR_BGR2RGB)\n",
    "    B, G, R = cv2.split(img1)\n",
    "    image1.append(img1)\n",
    "    label1.append(\"Non_raveling\")\n",
    "    # Compute statistics for each channel\n",
    "    b_stat1.append(stat_prop(B))\n",
    "    g_stat1.append(stat_prop(G))\n",
    "    r_stat1.append(stat_prop(R))\n",
    "    "
   ]
  },
  {
   "cell_type": "code",
   "execution_count": 56,
   "id": "5e257b54",
   "metadata": {},
   "outputs": [],
   "source": [
    "#converting list to numpy array\n",
    "image_nr = np.array(image1)\n",
    "\n"
   ]
  },
  {
   "cell_type": "code",
   "execution_count": 57,
   "id": "e7dbb160",
   "metadata": {},
   "outputs": [
    {
     "name": "stdout",
     "output_type": "stream",
     "text": [
      "(351, 100, 100, 3)\n"
     ]
    }
   ],
   "source": [
    "#printing the shape\n",
    "print(image_nr.shape)"
   ]
  },
  {
   "cell_type": "code",
   "execution_count": 58,
   "id": "fcac6969",
   "metadata": {},
   "outputs": [],
   "source": [
    "#reading all images\n",
    "path2 = r'K:\\IITK\\SEMESTER 2\\MACHINE LEARNING\\ASSIGNMENT 1\\mod_ravelling_dataset\\train\\Raveling'\n",
    "\n",
    "#creating a list of images\n",
    "image2 = []\n",
    "label2 = []\n",
    "b_stat2 = []\n",
    "g_stat2 = []\n",
    "r_stat2 = []"
   ]
  },
  {
   "cell_type": "code",
   "execution_count": 59,
   "id": "6ee41621",
   "metadata": {},
   "outputs": [],
   "source": [
    "# omputing statistical properties for each channel\n",
    "# def stat_prop(bgr):\n",
    "def compute_stats(bgr):\n",
    "    mean = np.mean(bgr)\n",
    "    std = np.std(bgr)\n",
    "    \n",
    "    kurtosis = np.mean((bgr - mean)**4) / std**4\n",
    "\n",
    "    range1 = np.max(bgr) - np.min(bgr)\n",
    "\n",
    "    return mean, std, kurtosis, range1\n"
   ]
  },
  {
   "cell_type": "code",
   "execution_count": 60,
   "id": "5d4f0cf7",
   "metadata": {},
   "outputs": [],
   "source": [
    "#read images from folder\n",
    "for img2 in os.listdir(path2):\n",
    "    img2 = cv2.imread(os.path.join(path2,img2))\n",
    "    img2 = cv2.cvtColor(img2, cv2.COLOR_BGR2RGB)\n",
    "    B, G, R = cv2.split(img2)\n",
    "    image2.append(img2)\n",
    "    label2.append(\"Raveling\")\n",
    "      # Compute statistics for each channel\n",
    "    b_stat2.append(compute_stats(B))\n",
    "    g_stat2.append(compute_stats(G))\n",
    "    r_stat2.append(compute_stats(R))\n",
    "\n"
   ]
  },
  {
   "cell_type": "code",
   "execution_count": 61,
   "id": "d1c08ea6",
   "metadata": {},
   "outputs": [],
   "source": [
    "#convert list to numpy array\n",
    "image_r = np.array(image2)\n"
   ]
  },
  {
   "cell_type": "code",
   "execution_count": 62,
   "id": "d9299197",
   "metadata": {},
   "outputs": [
    {
     "name": "stdout",
     "output_type": "stream",
     "text": [
      "(349, 100, 100, 3)\n"
     ]
    }
   ],
   "source": [
    "#printing shape of images\n",
    "print(image_r.shape)"
   ]
  },
  {
   "cell_type": "code",
   "execution_count": 63,
   "id": "ef7ad926",
   "metadata": {},
   "outputs": [],
   "source": [
    "#Merge the arrays\n",
    "image = np.concatenate((image_nr, image_r))\n",
    "label = np.concatenate((label1, label2))\n",
    "feature1 = np.column_stack((b_stat1, g_stat1, r_stat1))\n",
    "feature2 = np.column_stack((b_stat2, g_stat2, r_stat2))\n",
    "feature = np.concatenate((feature1, feature2))\n",
    "\n"
   ]
  },
  {
   "cell_type": "code",
   "execution_count": 64,
   "id": "ef96eed3",
   "metadata": {},
   "outputs": [
    {
     "name": "stdout",
     "output_type": "stream",
     "text": [
      "(700, 100, 100, 3)\n"
     ]
    }
   ],
   "source": [
    "print(image.shape)"
   ]
  },
  {
   "cell_type": "code",
   "execution_count": 65,
   "id": "ef0a5caa",
   "metadata": {},
   "outputs": [
    {
     "name": "stdout",
     "output_type": "stream",
     "text": [
      "(700,)\n"
     ]
    }
   ],
   "source": [
    "print(label.shape)"
   ]
  },
  {
   "cell_type": "code",
   "execution_count": 66,
   "id": "36334188",
   "metadata": {},
   "outputs": [
    {
     "name": "stdout",
     "output_type": "stream",
     "text": [
      "(700, 12)\n"
     ]
    }
   ],
   "source": [
    "print(feature.shape)"
   ]
  },
  {
   "cell_type": "code",
   "execution_count": 46,
   "id": "4831cbfd",
   "metadata": {},
   "outputs": [
    {
     "name": "stdout",
     "output_type": "stream",
     "text": [
      "(700, 100, 100, 3)\n",
      "(700,)\n"
     ]
    }
   ],
   "source": [
    "#Print the merged array\n",
    "print(image.shape)\n",
    "print(label.shape)"
   ]
  },
  {
   "cell_type": "code",
   "execution_count": 73,
   "id": "14b07950",
   "metadata": {},
   "outputs": [],
   "source": [
    "# Merge the arrays\n",
    "image = np.concatenate((image_nr, image_r))\n",
    "labels = np.concatenate((label1, label2))\n",
    "feature1 = np.column_stack((b_stat1, g_stat1, r_stat1))\n",
    "feature2 = np.column_stack((b_stat2, g_stat2, r_stat2))\n",
    "feature = np.concatenate((feature1, feature2))\n"
   ]
  },
  {
   "cell_type": "code",
   "execution_count": 74,
   "id": "bfb66748",
   "metadata": {},
   "outputs": [
    {
     "name": "stdout",
     "output_type": "stream",
     "text": [
      "Accuracy:  0.80952\n"
     ]
    }
   ],
   "source": [
    "#Split the data into training and testing sets\n",
    "X_train, X_ttest, y_train, y_ttest = train_test_split(feature, labels, test_size = 0.09, random_state = 14)\n",
    "\n",
    "# Train a logistic regression model\n",
    "lr = LogisticRegression(max_iter = 20000)\n",
    "lr.fit(X_train, y_train)\n",
    "\n",
    "# Access the coefficients (weights) of the model\n",
    "beta = lr.coef_\n",
    "\n",
    "# Make predictions on the testing set\n",
    "y_pred = lr.predict(X_ttest)\n",
    "\n",
    "# Evaluate the accuracy of the model\n",
    "accuracy = accuracy_score(y_ttest, y_pred)\n",
    "print(f\"Accuracy: {accuracy: .5f}\")"
   ]
  },
  {
   "cell_type": "code",
   "execution_count": 75,
   "id": "27578dff",
   "metadata": {},
   "outputs": [],
   "source": [
    "#reading texting images from folder\n",
    "path3 = r'K:\\IITK\\SEMESTER 2\\MACHINE LEARNING\\ASSIGNMENT 1\\mod_ravelling_dataset\\test'\n",
    "\n"
   ]
  },
  {
   "cell_type": "code",
   "execution_count": 80,
   "id": "21f5c476",
   "metadata": {},
   "outputs": [],
   "source": [
    "#creating a list of images\n",
    "images3 = []\n",
    "b_stat = []\n",
    "g_stat = []\n",
    "r_stat = []"
   ]
  },
  {
   "cell_type": "code",
   "execution_count": 81,
   "id": "f6a175a2",
   "metadata": {},
   "outputs": [],
   "source": [
    "#reading images from folder\n",
    "for img in os.listdir(path3):\n",
    "    img = cv2.imread(os.path.join(path3,img))\n",
    "    img = cv2.cvtColor(img, cv2.COLOR_BGR2RGB)\n",
    "    B, G, R = cv2.split(img)\n",
    "    images3.append(img)\n",
    "    # Compute statistics for each channel\n",
    "    b_stat.append(compute_stats(B))\n",
    "    g_stat.append(compute_stats(G))\n",
    "    r_stat.append(compute_stats(R))"
   ]
  },
  {
   "cell_type": "code",
   "execution_count": 82,
   "id": "b4a1b713",
   "metadata": {},
   "outputs": [
    {
     "name": "stdout",
     "output_type": "stream",
     "text": [
      "(300, 100, 100, 3)\n"
     ]
    }
   ],
   "source": [
    "#converting list to numpy array\n",
    "images_ = np.array(images3)\n",
    "\n",
    "\n",
    "#printing shape of images\n",
    "print(images_.shape)"
   ]
  },
  {
   "cell_type": "code",
   "execution_count": 85,
   "id": "76657fe9",
   "metadata": {},
   "outputs": [],
   "source": [
    "test_filenames = os.listdir(path3)\n",
    "\n",
    "# Create an empty list to store the filenames of test data\n",
    "test_data = []\n",
    "\n",
    "# Loop through the files in the directory\n",
    "for filename in test_filenames:\n",
    "    # Check if the file is an image file\n",
    "    if os.path.splitext(filename)[1].lower() in ('.jpg', '.jpeg', '.png', '.gif'):\n",
    "        \n",
    "        # Append the filename to the list        \n",
    "        image_path = os.path.join(path3, filename)\n",
    "        image = Image.open(image_path)\n",
    "        image_array = np.asarray(image)\n",
    "        test_data.append(image_array)\n",
    "\n",
    "\n",
    "feature_test = np.column_stack((b_stat, g_stat, r_stat))\n",
    "\n",
    "# Creating predictions on the testing set data\n",
    "test_predictions = lr.predict(feature_test)\n",
    "\n",
    "# Creating a DataFrame with the filename and predicted values\n",
    "results_df = pd.DataFrame({\n",
    "    \"filename\": test_filenames,\n",
    "    \"class\": test_predictions\n",
    "})\n",
    "\n",
    "# Save the DataFrame to a CSV file\n",
    "# results_df.to_csv(r\"K:\\IITK\\SEMESTER 2\\MACHINE LEARNING\\ASSIGNMENT 1\\test_results_rahul.csv\", index=False)"
   ]
  },
  {
   "cell_type": "code",
   "execution_count": 86,
   "id": "2409ee56",
   "metadata": {},
   "outputs": [
    {
     "data": {
      "text/html": [
       "<div>\n",
       "<style scoped>\n",
       "    .dataframe tbody tr th:only-of-type {\n",
       "        vertical-align: middle;\n",
       "    }\n",
       "\n",
       "    .dataframe tbody tr th {\n",
       "        vertical-align: top;\n",
       "    }\n",
       "\n",
       "    .dataframe thead th {\n",
       "        text-align: right;\n",
       "    }\n",
       "</style>\n",
       "<table border=\"1\" class=\"dataframe\">\n",
       "  <thead>\n",
       "    <tr style=\"text-align: right;\">\n",
       "      <th></th>\n",
       "      <th>filename</th>\n",
       "      <th>class</th>\n",
       "    </tr>\n",
       "  </thead>\n",
       "  <tbody>\n",
       "    <tr>\n",
       "      <th>0</th>\n",
       "      <td>1.jpg</td>\n",
       "      <td>Non_raveling</td>\n",
       "    </tr>\n",
       "    <tr>\n",
       "      <th>1</th>\n",
       "      <td>10.jpg</td>\n",
       "      <td>Raveling</td>\n",
       "    </tr>\n",
       "    <tr>\n",
       "      <th>2</th>\n",
       "      <td>100.jpg</td>\n",
       "      <td>Non_raveling</td>\n",
       "    </tr>\n",
       "    <tr>\n",
       "      <th>3</th>\n",
       "      <td>101.jpg</td>\n",
       "      <td>Raveling</td>\n",
       "    </tr>\n",
       "    <tr>\n",
       "      <th>4</th>\n",
       "      <td>102.jpg</td>\n",
       "      <td>Raveling</td>\n",
       "    </tr>\n",
       "    <tr>\n",
       "      <th>...</th>\n",
       "      <td>...</td>\n",
       "      <td>...</td>\n",
       "    </tr>\n",
       "    <tr>\n",
       "      <th>295</th>\n",
       "      <td>95.jpg</td>\n",
       "      <td>Non_raveling</td>\n",
       "    </tr>\n",
       "    <tr>\n",
       "      <th>296</th>\n",
       "      <td>96.jpg</td>\n",
       "      <td>Non_raveling</td>\n",
       "    </tr>\n",
       "    <tr>\n",
       "      <th>297</th>\n",
       "      <td>97.jpg</td>\n",
       "      <td>Raveling</td>\n",
       "    </tr>\n",
       "    <tr>\n",
       "      <th>298</th>\n",
       "      <td>98.jpg</td>\n",
       "      <td>Raveling</td>\n",
       "    </tr>\n",
       "    <tr>\n",
       "      <th>299</th>\n",
       "      <td>99.jpg</td>\n",
       "      <td>Raveling</td>\n",
       "    </tr>\n",
       "  </tbody>\n",
       "</table>\n",
       "<p>300 rows × 2 columns</p>\n",
       "</div>"
      ],
      "text/plain": [
       "    filename         class\n",
       "0      1.jpg  Non_raveling\n",
       "1     10.jpg      Raveling\n",
       "2    100.jpg  Non_raveling\n",
       "3    101.jpg      Raveling\n",
       "4    102.jpg      Raveling\n",
       "..       ...           ...\n",
       "295   95.jpg  Non_raveling\n",
       "296   96.jpg  Non_raveling\n",
       "297   97.jpg      Raveling\n",
       "298   98.jpg      Raveling\n",
       "299   99.jpg      Raveling\n",
       "\n",
       "[300 rows x 2 columns]"
      ]
     },
     "execution_count": 86,
     "metadata": {},
     "output_type": "execute_result"
    }
   ],
   "source": [
    "results_df"
   ]
  },
  {
   "cell_type": "code",
   "execution_count": null,
   "id": "8b40e0e1",
   "metadata": {},
   "outputs": [],
   "source": []
  }
 ],
 "metadata": {
  "kernelspec": {
   "display_name": "Python 3 (ipykernel)",
   "language": "python",
   "name": "python3"
  },
  "language_info": {
   "codemirror_mode": {
    "name": "ipython",
    "version": 3
   },
   "file_extension": ".py",
   "mimetype": "text/x-python",
   "name": "python",
   "nbconvert_exporter": "python",
   "pygments_lexer": "ipython3",
   "version": "3.9.13"
  }
 },
 "nbformat": 4,
 "nbformat_minor": 5
}
